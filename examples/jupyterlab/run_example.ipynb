{
 "cells": [
  {
   "source": [
    "# How to use the Convenient Register Access Library"
   ],
   "cell_type": "markdown",
   "metadata": {}
  },
  {
   "source": [
    "## Generate the python register model file"
   ],
   "cell_type": "markdown",
   "metadata": {}
  },
  {
   "cell_type": "code",
   "execution_count": 4,
   "metadata": {},
   "outputs": [],
   "source": [
    "import sys\n",
    "import numpy as np\n",
    "from coreali import PythonExporter\n",
    "from coreali import registerio\n",
    "from systemrdl import RDLCompiler, RDLCompileError\n",
    "from coreali.registerio import RegIoNoHW\n",
    "\n",
    "input_files = [\"../systemrdl/i2c_master_core.rdl\",\n",
    "\"../systemrdl/logger.rdl\",\n",
    "\"../systemrdl/top_sys.rdl\"]\n",
    "rdlc = RDLCompiler()\n",
    "\n",
    "try:\n",
    "    for input_file in input_files:\n",
    "        rdlc.compile_file(input_file)\n",
    "    root = rdlc.elaborate()\n",
    "except RDLCompileError:\n",
    "    sys.exit(1)\n",
    "\n",
    "pythonExporter = PythonExporter()\n",
    "pythonExporter.source_files = input_files\n",
    "pythonExporter.export(root, \"generated_regmodel.py\")"
   ]
  },
  {
   "source": [
    "## Create the register model object"
   ],
   "cell_type": "markdown",
   "metadata": {}
  },
  {
   "cell_type": "code",
   "execution_count": 13,
   "metadata": {},
   "outputs": [],
   "source": [
    "import generated_regmodel\n",
    "regmodel = generated_regmodel.top_sys(registerio.RegIoNoHW())\n",
    "regmodel._rio.mem = np.zeros([1024], np.uint8)"
   ]
  },
  {
   "source": [
    "## Print all registers and their content"
   ],
   "cell_type": "markdown",
   "metadata": {}
  },
  {
   "cell_type": "code",
   "execution_count": 14,
   "metadata": {},
   "outputs": [
    {
     "output_type": "stream",
     "name": "stdout",
     "text": [
      "top_sys               :\n",
      "  Logger              :\n",
      "    Ctrl              :          0 = 0x00000000\n",
      "      ENABLE          :          0 = 0x00000000\n",
      "      TRIGGERED       :          0 = 0x00000000\n",
      "    Trig              : [0 0]\n",
      "      SW_TRIG         : [0 0]\n",
      "      LEVEL           : [0 0]\n",
      "    LogMem            : [array([0, 0, 0, 0, 0, 0, 0, 0, 0, 0, 0, 0, 0, 0, 0, 0, 0, 0, 0, 0, 0, 0,\n",
      "   ...\n",
      "  I2c                 :\n",
      "    PRERlo            :          0 = 0x00\n",
      "      VAL             :          0 = 0x00\n",
      "    PRERhi            :          0 = 0x00\n",
      "      VAL             :          0 = 0x00\n",
      "    CTR               :          0 = 0x00\n",
      "      EN              :          0 = 0x00\n"
     ]
    }
   ],
   "source": [
    "print(regmodel)"
   ]
  },
  {
   "source": [
    "## Get some help"
   ],
   "cell_type": "markdown",
   "metadata": {}
  },
  {
   "cell_type": "code",
   "execution_count": 15,
   "metadata": {},
   "outputs": [
    {
     "output_type": "stream",
     "name": "stdout",
     "text": [
      "desc: EN, I2\n",
      "C core enable bit.\n",
      "When set to ‘1’, the core is enabled.\n",
      "When set to ‘0’, the core is disabled.\n",
      "sw: AccessType.r\n",
      "hw: AccessType.r\n"
     ]
    }
   ],
   "source": [
    "regmodel.I2c.CTR.EN.help()"
   ]
  },
  {
   "cell_type": "code",
   "execution_count": 6,
   "metadata": {},
   "outputs": [],
   "source": [
    "## Access registers"
   ]
  },
  {
   "cell_type": "code",
   "execution_count": 21,
   "metadata": {},
   "outputs": [],
   "source": [
    "regmodel.Logger.Ctrl.ENABLE.write(1) # set field to 1\n",
    "regmodel.Logger.Trig.write([10, 20]) # write two fields at once"
   ]
  },
  {
   "cell_type": "code",
   "execution_count": 23,
   "metadata": {},
   "outputs": [
    {
     "output_type": "stream",
     "name": "stdout",
     "text": [
      "1\n"
     ]
    },
    {
     "output_type": "error",
     "ename": "AttributeError",
     "evalue": "'top_sys_Logger_Trig' object has no attribute 'Level'",
     "traceback": [
      "\u001b[1;31m---------------------------------------------------------------------------\u001b[0m",
      "\u001b[1;31mAttributeError\u001b[0m                            Traceback (most recent call last)",
      "\u001b[1;32m<ipython-input-23-5edbe5df82bd>\u001b[0m in \u001b[0;36m<module>\u001b[1;34m\u001b[0m\n\u001b[0;32m      1\u001b[0m \u001b[0mprint\u001b[0m\u001b[1;33m(\u001b[0m\u001b[0mregmodel\u001b[0m\u001b[1;33m.\u001b[0m\u001b[0mLogger\u001b[0m\u001b[1;33m.\u001b[0m\u001b[0mCtrl\u001b[0m\u001b[1;33m.\u001b[0m\u001b[0mENABLE\u001b[0m\u001b[1;33m.\u001b[0m\u001b[0mread\u001b[0m\u001b[1;33m(\u001b[0m\u001b[1;33m)\u001b[0m\u001b[1;33m)\u001b[0m \u001b[1;31m# read the value of field\u001b[0m\u001b[1;33m\u001b[0m\u001b[1;33m\u001b[0m\u001b[0m\n\u001b[1;32m----> 2\u001b[1;33m \u001b[0mprint\u001b[0m\u001b[1;33m(\u001b[0m\u001b[0mregmodel\u001b[0m\u001b[1;33m.\u001b[0m\u001b[0mLogger\u001b[0m\u001b[1;33m.\u001b[0m\u001b[0mTrig\u001b[0m\u001b[1;33m.\u001b[0m\u001b[0mLevel\u001b[0m\u001b[1;33m[\u001b[0m\u001b[1;36m0\u001b[0m\u001b[1;33m:\u001b[0m\u001b[1;36m2\u001b[0m\u001b[1;33m]\u001b[0m\u001b[1;33m.\u001b[0m\u001b[0mread\u001b[0m\u001b[1;33m(\u001b[0m\u001b[1;33m)\u001b[0m\u001b[1;33m)\u001b[0m \u001b[1;31m# read some registers together\u001b[0m\u001b[1;33m\u001b[0m\u001b[1;33m\u001b[0m\u001b[0m\n\u001b[0m",
      "\u001b[1;31mAttributeError\u001b[0m: 'top_sys_Logger_Trig' object has no attribute 'Level'"
     ]
    }
   ],
   "source": [
    "print(regmodel.Logger.Ctrl.ENABLE.read()) # read the value of field\n",
    "print(regmodel.Logger.Trig.LEVEL[0:2].read()) # read some registers together"
   ]
  },
  {
   "cell_type": "code",
   "execution_count": null,
   "metadata": {},
   "outputs": [],
   "source": []
  }
 ],
 "metadata": {
  "kernelspec": {
   "name": "python383jvsc74a57bd05e4a92d2d414a77dd1aea125a82fa91c3c93be9fba9c566870c10595f7c0a259",
   "display_name": "Python 3.8.3 64-bit (conda)"
  },
  "language_info": {
   "codemirror_mode": {
    "name": "ipython",
    "version": 3
   },
   "file_extension": ".py",
   "mimetype": "text/x-python",
   "name": "python",
   "nbconvert_exporter": "python",
   "pygments_lexer": "ipython3",
   "version": "3.8.3-final"
  }
 },
 "nbformat": 4,
 "nbformat_minor": 4
}