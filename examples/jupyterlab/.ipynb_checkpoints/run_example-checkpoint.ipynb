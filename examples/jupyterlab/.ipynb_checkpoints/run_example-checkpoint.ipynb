{
 "cells": [
  {
   "cell_type": "markdown",
   "metadata": {},
   "source": [
    "# How to use the Convenient Register Access Library"
   ]
  },
  {
   "cell_type": "markdown",
   "metadata": {},
   "source": [
    "## Generate the python register model file"
   ]
  },
  {
   "cell_type": "code",
   "execution_count": 1,
   "metadata": {},
   "outputs": [
    {
     "ename": "ModuleNotFoundError",
     "evalue": "No module named 'coreali'",
     "output_type": "error",
     "traceback": [
      "\u001b[1;31m---------------------------------------------------------------------------\u001b[0m",
      "\u001b[1;31mModuleNotFoundError\u001b[0m                       Traceback (most recent call last)",
      "\u001b[1;32m<ipython-input-1-c7995e6afd53>\u001b[0m in \u001b[0;36m<module>\u001b[1;34m\u001b[0m\n\u001b[0;32m      1\u001b[0m \u001b[1;32mimport\u001b[0m \u001b[0msys\u001b[0m\u001b[1;33m\u001b[0m\u001b[1;33m\u001b[0m\u001b[0m\n\u001b[0;32m      2\u001b[0m \u001b[1;32mimport\u001b[0m \u001b[0mnumpy\u001b[0m \u001b[1;32mas\u001b[0m \u001b[0mnp\u001b[0m\u001b[1;33m\u001b[0m\u001b[1;33m\u001b[0m\u001b[0m\n\u001b[1;32m----> 3\u001b[1;33m \u001b[1;32mfrom\u001b[0m \u001b[0mcoreali\u001b[0m \u001b[1;32mimport\u001b[0m \u001b[0mRegisterModel\u001b[0m\u001b[1;33m\u001b[0m\u001b[1;33m\u001b[0m\u001b[0m\n\u001b[0m\u001b[0;32m      4\u001b[0m \u001b[1;32mfrom\u001b[0m \u001b[0mcoreali\u001b[0m \u001b[1;32mimport\u001b[0m \u001b[0mregisterio\u001b[0m\u001b[1;33m\u001b[0m\u001b[1;33m\u001b[0m\u001b[0m\n\u001b[0;32m      5\u001b[0m \u001b[1;32mfrom\u001b[0m \u001b[0msystemrdl\u001b[0m \u001b[1;32mimport\u001b[0m \u001b[0mRDLCompiler\u001b[0m\u001b[1;33m,\u001b[0m \u001b[0mRDLCompileError\u001b[0m\u001b[1;33m\u001b[0m\u001b[1;33m\u001b[0m\u001b[0m\n",
      "\u001b[1;31mModuleNotFoundError\u001b[0m: No module named 'coreali'"
     ]
    }
   ],
   "source": [
    "import sys\n",
    "import numpy as np\n",
    "from coreali import RegisterModel\n",
    "from coreali import registerio\n",
    "from systemrdl import RDLCompiler, RDLCompileError\n",
    "from coreali.registerio import RegIoNoHW\n",
    "\n",
    "input_files = [\"../systemrdl/i2c_master_core.rdl\",\n",
    "\"../systemrdl/logger.rdl\",\n",
    "\"../systemrdl/top_sys.rdl\"]\n",
    "rdlc = RDLCompiler()\n",
    "\n",
    "try:\n",
    "    for input_file in input_files:\n",
    "        rdlc.compile_file(input_file)\n",
    "    root = rdlc.elaborate()\n",
    "except RDLCompileError:\n",
    "    sys.exit(1)"
   ]
  },
  {
   "cell_type": "markdown",
   "metadata": {},
   "source": [
    "## Create the register model object"
   ]
  },
  {
   "cell_type": "code",
   "execution_count": 4,
   "metadata": {},
   "outputs": [],
   "source": [
    "regmodel = RegisterModel(registerio.RegIoNoHW())\n",
    "regmodel._rio.mem = np.zeros([1024], np.uint8)"
   ]
  },
  {
   "cell_type": "markdown",
   "metadata": {},
   "source": [
    "## Print all registers and their content"
   ]
  },
  {
   "cell_type": "code",
   "execution_count": 5,
   "metadata": {},
   "outputs": [
    {
     "name": "stdout",
     "output_type": "stream",
     "text": [
      "top_sys               :\n",
      "  Logger              :\n",
      "    Ctrl              :          0 = 0x00000000\n",
      "      ENABLE          :          0 = 0x00000000\n",
      "      TRIGGERED       :          0 = 0x00000000\n",
      "    Trig              : [0 0]\n",
      "      SW_TRIG         : [0 0]\n",
      "      LEVEL           : [0 0]\n",
      "    LogMem            : [array([0, 0, 0, 0, 0, 0, 0, 0, 0, 0, 0, 0, 0, 0, 0, 0, 0, 0, 0, 0, 0, 0,\n",
      "   ...\n",
      "  I2c                 :\n",
      "    PRERlo            :          0 = 0x00\n",
      "      VAL             :          0 = 0x00\n",
      "    PRERhi            :          0 = 0x00\n",
      "      VAL             :          0 = 0x00\n",
      "    CTR               :          0 = 0x00\n",
      "      EN              :          0 = 0x00\n"
     ]
    }
   ],
   "source": [
    "print(regmodel)"
   ]
  },
  {
   "cell_type": "markdown",
   "metadata": {},
   "source": [
    "## Get some help"
   ]
  },
  {
   "cell_type": "code",
   "execution_count": 6,
   "metadata": {},
   "outputs": [
    {
     "name": "stdout",
     "output_type": "stream",
     "text": [
      "desc: EN, I2\n",
      "C core enable bit.\n",
      "When set to ‘1’, the core is enabled.\n",
      "When set to ‘0’, the core is disabled.\n",
      "sw: AccessType.r\n",
      "hw: AccessType.r\n"
     ]
    }
   ],
   "source": [
    "regmodel.I2c.CTR.EN.help()"
   ]
  },
  {
   "cell_type": "code",
   "execution_count": 7,
   "metadata": {},
   "outputs": [],
   "source": [
    "## Access registers"
   ]
  },
  {
   "cell_type": "code",
   "execution_count": 8,
   "metadata": {},
   "outputs": [],
   "source": [
    "regmodel.Logger.Ctrl.ENABLE.write(1) # set field to 1\n",
    "regmodel.Logger.Trig[0:2].write([10, 20]) # write two fields at once"
   ]
  },
  {
   "cell_type": "code",
   "execution_count": 9,
   "metadata": {},
   "outputs": [
    {
     "name": "stdout",
     "output_type": "stream",
     "text": [
      "1\n",
      "[ 5 10]\n"
     ]
    }
   ],
   "source": [
    "print(regmodel.Logger.Ctrl.ENABLE.read()) # read the value of field\n",
    "print(regmodel.Logger.Trig.LEVEL.read()) # read some registers together"
   ]
  },
  {
   "cell_type": "code",
   "execution_count": null,
   "metadata": {},
   "outputs": [],
   "source": []
  },
  {
   "cell_type": "code",
   "execution_count": null,
   "metadata": {},
   "outputs": [],
   "source": []
  }
 ],
 "metadata": {
  "kernelspec": {
   "display_name": "Python 3",
   "language": "python",
   "name": "python3"
  },
  "language_info": {
   "codemirror_mode": {
    "name": "ipython",
    "version": 3
   },
   "file_extension": ".py",
   "mimetype": "text/x-python",
   "name": "python",
   "nbconvert_exporter": "python",
   "pygments_lexer": "ipython3",
   "version": "3.8.3"
  }
 },
 "nbformat": 4,
 "nbformat_minor": 4
}
